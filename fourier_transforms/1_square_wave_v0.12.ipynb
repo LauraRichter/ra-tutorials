{
 "metadata": {
  "name": "1_square_wave_v0.12"
 },
 "nbformat": 3,
 "nbformat_minor": 0,
 "orig_nbformat": 2,
 "worksheets": [
  {
   "cells": [
    {
     "cell_type": "markdown",
     "source": [
      "#1. Approximating a square wave function as a sum of sines#"
     ]
    },
    {
     "cell_type": "markdown",
     "source": [
      "In this notebook we approximate a square wave by adding up sucessive sine waves (of specific frequency and amplitude).\n",
      "\n",
      "First import the necessary modules:"
     ]
    },
    {
     "cell_type": "code",
     "collapsed": true,
     "input": [
      "import matplotlib.pylab as plt\n",
      "import numpy as np\n",
      "import time \n",
      "from IPython.core.display import clear_output"
     ],
     "language": "python",
     "outputs": [],
     "prompt_number": ""
    },
    {
     "cell_type": "markdown",
     "source": [
      "Now set up the x-values for the function:"
     ]
    },
    {
     "cell_type": "code",
     "collapsed": true,
     "input": [
      "x=np.arange(-np.pi,np.pi,0.01) "
     ],
     "language": "python",
     "outputs": [],
     "prompt_number": ""
    },
    {
     "cell_type": "markdown",
     "source": [
      "Now we sucessively add up a series of sine waves to make an ever-better approximation of a square wave:"
     ]
    },
    {
     "cell_type": "code",
     "collapsed": false,
     "input": [
      "# create plot\n",
      "f, ax = plt.subplots(1,2,figsize=[13,3])\n",
      "\n",
      "# set maximum number of iterations\n",
      "i_max = 20\n",
      "\n",
      "# initialise values\n",
      "sqwave = 0.0\n",
      "b = 1.0\n",
      "\n",
      "# for each iteration...\n",
      "for i in range(1,i_max):\n",
      "    # new component   \n",
      "    component = (1/b)*np.sin(b*x)\n",
      "    # add that component to our existing wave\n",
      "    sqwave = sqwave+component\n",
      "    \n",
      "    # plot the new component on the left, the sum on the right\n",
      "    ax[0].plot(x,component)\n",
      "    ax[0].set_xlabel('Time')\n",
      "    ax[0].set_ylabel('Amplitude (real)')\n",
      "    \n",
      "    ax[1].plot(x,sqwave)\n",
      "    ax[1].set_xlabel('Time')\n",
      "    ax[1].set_ylabel('Amplitude (real)')\n",
      "    \n",
      "    # iterate\n",
      "    b=b+2\n",
      "\n",
      "    # show the plot, then get ready for the next plot\n",
      "    plt.draw()\n",
      "    time.sleep(2.0)\n",
      "    clear_output()\n",
      "    display(f)\n",
      "    ax[1].cla()\n",
      "    \n",
      "plt.close()"
     ],
     "language": "python",
     "outputs": [],
     "prompt_number": ""
    },
    {
     "cell_type": "code",
     "collapsed": true,
     "input": [],
     "language": "python",
     "outputs": [],
     "prompt_number": ""
    }
   ]
  }
 ]
}