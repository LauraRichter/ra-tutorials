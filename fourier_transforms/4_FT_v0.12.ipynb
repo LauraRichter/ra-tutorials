{
 "metadata": {
  "name": "4_FT_v0.12"
 },
 "nbformat": 3,
 "nbformat_minor": 0,
 "orig_nbformat": 2,
 "worksheets": [
  {
   "cells": [
    {
     "cell_type": "markdown",
     "source": [
      "#4. The Fourier Transform#"
     ]
    },
    {
     "cell_type": "markdown",
     "source": [
      "Lets do some Fourier transforms!\n",
      "\n",
      "First import the necessary modules:"
     ]
    },
    {
     "cell_type": "code",
     "collapsed": true,
     "input": [
      "import numpy as np\n",
      "import matplotlib.pylab as plt"
     ],
     "language": "python",
     "outputs": [],
     "prompt_number": ""
    },
    {
     "cell_type": "markdown",
     "source": [
      "Lets create a function which we will fourier transform. \n",
      "<br /> \n",
      "For now lets add together two cos functions with different periods and amplitudes. You can play with this later and create your own function."
     ]
    },
    {
     "cell_type": "code",
     "collapsed": false,
     "input": [
      "# create an array of x-axis values, from 0 to 1000, with step size of 1\n",
      "delta_n = 1.0\n",
      "n_array = np.arange(0,1000.,delta_n)\n",
      "\n",
      "# create two cos functions with specified periods and amplitudes\n",
      "P1 = 100.\n",
      "A1 = 1.0\n",
      "fn1 = A1*np.cos(2.*np.pi*n_array/P1) \n",
      "\n",
      "P2 = 50.\n",
      "A2 = 0.5\n",
      "fn2 = A2*np.cos(2.*np.pi*n_array/P2)\n",
      "\n",
      "# add the functions to form our array x to Fourier transform\n",
      "x_array = fn1 + fn2\n",
      "\n",
      "# print the periods and frequencies of the two components of our x array\n",
      "print 'Periods:     ', P1, '  ', P2\n",
      "print 'Frequencies: ', 1./P1, '   ', 1./P2"
     ],
     "language": "python",
     "outputs": [],
     "prompt_number": ""
    },
    {
     "cell_type": "code",
     "collapsed": false,
     "input": [
      "# plot our x array\n",
      "plt.plot(n_array,x_array)\n",
      "plt.xlabel('time')\n",
      "plt.ylabel('f(t)')\n",
      "plt.show() "
     ],
     "language": "python",
     "outputs": [],
     "prompt_number": ""
    },
    {
     "cell_type": "markdown",
     "source": [
      "## Discrete Fourier Transform (DFT) \n",
      "\n",
      "Now we want to take the Fourier transform of our x array.\n",
      "\n",
      "Lets remind ourselves of the definition of the Discrete Fourier Transform:\n",
      "\n",
      "$$X(k) = \\sum_{n=0}^{N-1} x(n) e^{-i 2 \\pi n \\frac{k}{N} }$$\n",
      "\n",
      "where:\n",
      "\n",
      "* $x(n)$ is the $n$th sample for the time-domain function (the DFT input).\n",
      "* $N$ is the total number of samples.\n",
      "* $X(k)$ is the output of the DFT for values of $k$ ranging from $-(N/2-1)$ to $N/2$.\n",
      "* The integer values k correspond to frequencies $k/N$."
     ]
    },
    {
     "cell_type": "code",
     "collapsed": true,
     "input": [
      "N = len(n_array)\n",
      "k_array = np.arange(-(N/2.0-1.0),N/2.0,1.0)\n",
      "\n",
      "X = np.zeros(len(k_array), dtype=np.complex)\n",
      "\n",
      "# iterate over the fourier-space variable k\n",
      "for k_indx,k in enumerate(k_array):\n",
      "    # iterate over the original-space variable n\n",
      "    for n_indx,n in enumerate(n_array):\n",
      "        arg = x_array[n_indx]*np.exp(-1.j*2.0*np.pi*k*n/N)\n",
      "        X[k_indx] = X[k_indx] + arg"
     ],
     "language": "python",
     "outputs": [],
     "prompt_number": ""
    },
    {
     "cell_type": "code",
     "collapsed": false,
     "input": [
      "# create plot\n",
      "f, ax = plt.subplots(1,2,figsize=[13,3])\n",
      "\n",
      "ax[0].plot(k_array/N,X.real,'o-')\n",
      "ax[0].set_xlabel('Frequency')\n",
      "ax[0].set_ylabel('Real')\n",
      "\n",
      "ax[1].plot(k_array/N,X.imag,'o-')\n",
      "ax[1].set_xlabel('Frequency')\n",
      "ax[1].set_ylabel('Imag')"
     ],
     "language": "python",
     "outputs": [],
     "prompt_number": ""
    },
    {
     "cell_type": "markdown",
     "source": [
      "Lets take a closer look at the real plot on the left:"
     ]
    },
    {
     "cell_type": "code",
     "collapsed": false,
     "input": [
      "plt.stem(k_array/N,X.real)\n",
      "plt.xlabel('Frequency')\n",
      "plt.ylabel('Amplitude')\n",
      "plt.xlim(0,0.05)\n",
      "plt.ylim(-10,510)"
     ],
     "language": "python",
     "outputs": [],
     "prompt_number": ""
    },
    {
     "cell_type": "markdown",
     "source": [
      "So we are seeing the Fourier Transform components of the two cos functions comprising our signal, at the frequencies we set them to: f1 and f2.\n",
      "\n",
      "Some questions to think about:\n",
      "\n",
      "* Why are the amplitudes different to the amplitudes A1 and A2 that we used to create the function?\n",
      "* Why are there four spikes in the original unzoomed Fourier transform plot?"
     ]
    },
    {
     "cell_type": "code",
     "collapsed": true,
     "input": [],
     "language": "python",
     "outputs": [],
     "prompt_number": ""
    }
   ]
  }
 ]
}