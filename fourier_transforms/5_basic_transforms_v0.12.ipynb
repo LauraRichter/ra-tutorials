{
 "metadata": {
  "name": "5_basic_transforms_v0.12"
 },
 "nbformat": 3,
 "nbformat_minor": 0,
 "orig_nbformat": 2,
 "worksheets": [
  {
   "cells": [
    {
     "cell_type": "markdown",
     "source": [
      "#5. Basic Transforms#"
     ]
    },
    {
     "cell_type": "markdown",
     "source": [
      "In this notebook we will look at some basic Fourier transform pairs.\n",
      "\n",
      "First import the necessary modules:"
     ]
    },
    {
     "cell_type": "code",
     "collapsed": true,
     "input": [
      "import numpy as np\n",
      "import matplotlib.pylab as plt"
     ],
     "language": "python",
     "outputs": [],
     "prompt_number": ""
    },
    {
     "cell_type": "markdown",
     "source": [
      "There are some basic Fourier transfom pairs that are worth knowing, because you'll see them all over the place (including later in this course!) and they can be used to create more complex functions, as we will see later.\n",
      "<br/>\n",
      "First lets make a couple of convenience functions using the fourier transform provided by numpy (don't worry about the details of this now!):"
     ]
    },
    {
     "cell_type": "code",
     "collapsed": true,
     "input": [
      "def ft(y):\n",
      "    \"\"\"Returns the fourier transform of y\"\"\"\n",
      "    return np.fft.fftshift(np.fft.fft(np.fft.fftshift(y)))\n",
      "\n",
      "def ftfreqs(N,dt):\n",
      "    \"\"\"Returns the Fourier frequencies\"\"\"\n",
      "    return np.fft.fftshift(np.fft.fftfreq(N,dt))"
     ],
     "language": "python",
     "outputs": [],
     "prompt_number": ""
    },
    {
     "cell_type": "markdown",
     "source": [
      "Now lets define some of the frequently used functions here, then we can play with taking their Fourier transforms."
     ]
    },
    {
     "cell_type": "code",
     "collapsed": true,
     "input": [
      "# constant function of amplitude A\n",
      "def constant(t,A):\n",
      "    return A*np.ones(len(t))"
     ],
     "language": "python",
     "outputs": [],
     "prompt_number": ""
    },
    {
     "cell_type": "code",
     "collapsed": true,
     "input": [
      "# spike of amplitude A at given value of t\n",
      "def spike(t,t0,A):\n",
      "    output = np.zeros(len(t))\n",
      "    output[t==t0] = A\n",
      "    print sum(t==t0)\n",
      "    return output"
     ],
     "language": "python",
     "outputs": [],
     "prompt_number": ""
    },
    {
     "cell_type": "code",
     "collapsed": true,
     "input": [
      "# top-hat function\n",
      "def tophat(t,width,A):\n",
      "    output = np.zeros(len(t))\n",
      "    output[abs(t)<width/2.0] = A\n",
      "    return output"
     ],
     "language": "python",
     "outputs": [],
     "prompt_number": ""
    },
    {
     "cell_type": "code",
     "collapsed": true,
     "input": [
      "# sinc function\n",
      "def sincfunc(t,scale):\n",
      "    return sinc(t/scale)"
     ],
     "language": "python",
     "outputs": [],
     "prompt_number": ""
    },
    {
     "cell_type": "code",
     "collapsed": true,
     "input": [
      "# gaussian function\n",
      "def gaussian(t,sigma):\n",
      "    return (1./(np.sqrt(2.*np.pi)*sigma))*np.exp(-t**2.0/(2.0*sigma**2.0))"
     ],
     "language": "python",
     "outputs": [],
     "prompt_number": ""
    },
    {
     "cell_type": "code",
     "collapsed": true,
     "input": [
      "# comb function\n",
      "def comb(t,t_space,A):\n",
      "    output = np.zeros(len(t))\n",
      "    mod_array = np.array([round(i,2)%t_space for i in t])\n",
      "    output[mod_array==0] = A\n",
      "    return output"
     ],
     "language": "python",
     "outputs": [],
     "prompt_number": ""
    },
    {
     "cell_type": "markdown",
     "source": [
      "Now lets play with these functions and their Fourier transforms. First lets do a single cosine, just to check all is well:"
     ]
    },
    {
     "cell_type": "code",
     "collapsed": true,
     "input": [
      "delta_t = 1.0\n",
      "t = np.arange(-200,200,delta_t)     # set x-axis values"
     ],
     "language": "python",
     "outputs": [],
     "prompt_number": ""
    },
    {
     "cell_type": "code",
     "collapsed": true,
     "input": [
      "y = 5.0*np.cos(2.*pi*t/50.)         # create function\n",
      "Y = ft(y)                           # Fourier transform\n",
      "freqs = ftfreqs(len(y),delta_t)"
     ],
     "language": "python",
     "outputs": [],
     "prompt_number": ""
    },
    {
     "cell_type": "markdown",
     "source": [
      "We will plot the signal y(t), and its Fourier transform Y(f). \n",
      "\n",
      "Y(f) is is complex - so we plot its amplitude, real part, and imaginary part separately."
     ]
    },
    {
     "cell_type": "code",
     "collapsed": true,
     "input": [
      "f, ax1 = plt.subplots(1,2,figsize=[13,3])     # create plot\n",
      "\n",
      "ax1[0].plot(t,y)\n",
      "ax1[0].set_xlabel('Time')\n",
      "ax1[0].set_ylabel('Amplitude')\n",
      "ax1[0].set_title('y(t)')\n",
      "\n",
      "ax1[1].stem(freqs,abs(Y))\n",
      "ax1[1].set_xlabel('Frequency')\n",
      "ax1[1].set_ylabel('Amplitude')\n",
      "ax1[1].set_title('Y(f) amplitude')\n",
      "\n",
      "# try setting the x limits to zoom in to the Fourier transform:\n",
      "ax1[1].set_xlim(-0.05,0.05)\n",
      "\n",
      "f, ax2 = plt.subplots(1,2,figsize=[13,3])     # create plot\n",
      "\n",
      "ax2[0].stem(freqs,Y.real)\n",
      "ax2[0].set_xlabel('Frequency')\n",
      "ax2[0].set_ylabel('Real')\n",
      "ax2[0].set_title('Y(f) real')\n",
      "\n",
      "ax2[1].stem(freqs,Y.imag)\n",
      "ax2[1].set_xlabel('Frequency')\n",
      "ax2[1].set_ylabel('Imag')\n",
      "ax2[1].set_title('Y(f) imaginary')\n",
      "\n",
      "# try setting the x limits to zoom in to the Fourier transform:\n",
      "ax2[0].set_xlim(-0.05,0.05)\n",
      "ax2[1].set_xlim(-0.05,0.05)"
     ],
     "language": "python",
     "outputs": [],
     "prompt_number": ""
    },
    {
     "cell_type": "markdown",
     "source": [
      "Does that look like what you expect?\n",
      "<br/>\n",
      "Now lets try the functions we've defined above:"
     ]
    },
    {
     "cell_type": "code",
     "collapsed": true,
     "input": [
      "delta_t = 1.0\n",
      "t = np.arange(-200,200,delta_t)     # set x-axis values"
     ],
     "language": "python",
     "outputs": [],
     "prompt_number": ""
    },
    {
     "cell_type": "code",
     "collapsed": true,
     "input": [
      "y=comb(t,10.,10.)                   # create function\n",
      "Y = ft(y)                           # Fourier transform\n",
      "freqs = ftfreqs(len(y),delta_t)"
     ],
     "language": "python",
     "outputs": [],
     "prompt_number": ""
    },
    {
     "cell_type": "code",
     "collapsed": true,
     "input": [
      "f, ax1 = plt.subplots(1,2,figsize=[13,3])     # create plot\n",
      "\n",
      "ax1[0].plot(t,y)\n",
      "ax1[0].set_xlabel('Time')\n",
      "ax1[0].set_ylabel('Amplitude')\n",
      "ax1[0].set_title('y(t)')\n",
      "\n",
      "ax1[1].plot(freqs,abs(Y),'o-')\n",
      "ax1[1].set_xlabel('Frequency')\n",
      "ax1[1].set_ylabel('Amplitude')\n",
      "ax1[1].set_title('Y(f) amplitude')\n",
      "\n",
      "# try setting the x limits to zoom in to the Fourier transform:\n",
      "ax1[1].set_xlim(-0.2,0.2)\n",
      "\n",
      "f, ax2 = plt.subplots(1,2,figsize=[13,3])     # create plot\n",
      "\n",
      "ax2[0].plot(freqs,Y.real,'-o')\n",
      "ax2[0].set_xlabel('Frequency')\n",
      "ax2[0].set_ylabel('Real')\n",
      "ax2[0].set_title('Y(f) real')\n",
      "ax2[0].axhline(y=0,color='k')\n",
      "\n",
      "ax2[1].plot(freqs,Y.imag,'-o')\n",
      "ax2[1].set_xlabel('Frequency')\n",
      "ax2[1].set_ylabel('Imag')\n",
      "ax2[1].set_title('Y(f) imaginary')\n",
      "ax2[1].axhline(y=0,color='k')\n",
      "\n",
      "# try setting the x limits to zoom in to the Fourier transform:\n",
      "ax2[0].set_xlim(-0.2,0.2)\n",
      "ax2[1].set_xlim(-0.2,0.2)"
     ],
     "language": "python",
     "outputs": [],
     "prompt_number": ""
    },
    {
     "cell_type": "markdown",
     "source": [
      "You can fiddle, but some suggested functions and parameters are:\n",
      "\n",
      "* constant(t,10.)\n",
      "* spike(t,0.0,10.)\n",
      "* tophat(t,30.,10.)\n",
      "* sincfunc(t,10.)\n",
      "* gaussian(t,10.)\n",
      "* comb(t,20.,10.)\n",
      "\n",
      "Try making the parameters larger and smaller, and see what the effect is in the Fourier domain."
     ]
    },
    {
     "cell_type": "markdown",
     "source": [
      "We can also combine functions. For example:"
     ]
    },
    {
     "cell_type": "code",
     "collapsed": true,
     "input": [
      "y = sincfunc(t,20.)*sincfunc(t,20.)   # create function\n",
      "Y = ft(y)                             # Fourier transform\n",
      "freqs = ftfreqs(len(y),delta_t)"
     ],
     "language": "python",
     "outputs": [],
     "prompt_number": ""
    },
    {
     "cell_type": "code",
     "collapsed": true,
     "input": [
      "f, ax1 = plt.subplots(1,2,figsize=[13,3])     # create plot\n",
      "\n",
      "ax1[0].plot(t,y)\n",
      "ax1[0].set_xlabel('Time')\n",
      "ax1[0].set_ylabel('Amplitude')\n",
      "ax1[0].set_title('y(t)')\n",
      "\n",
      "ax1[1].plot(freqs,abs(Y),'o-')\n",
      "ax1[1].set_xlabel('Frequency')\n",
      "ax1[1].set_ylabel('Amplitude')\n",
      "ax1[1].set_title('Y(f) amplitude')\n",
      "\n",
      "# try setting the x limits to zoom in to the Fourier transform:\n",
      "ax1[1].set_xlim(-0.3,0.3)\n",
      "\n",
      "f, ax2 = plt.subplots(1,2,figsize=[13,3])     # create plot\n",
      "\n",
      "ax2[0].plot(freqs,Y.real,'o-')\n",
      "ax2[0].set_xlabel('Frequency')\n",
      "ax2[0].set_ylabel('Real')\n",
      "ax2[0].set_title('Y(f) real')\n",
      "ax2[0].axhline(y=0,color='k')\n",
      "\n",
      "ax2[1].plot(freqs,Y.imag,'o-')\n",
      "ax2[1].set_xlabel('Frequency')\n",
      "ax2[1].set_ylabel('Imag')\n",
      "ax2[1].set_title('Y(f) imaginary')\n",
      "ax2[1].axhline(y=0,color='k')\n",
      "\n",
      "# try setting the x limits to zoom in to the Fourier transform:\n",
      "ax2[0].set_xlim(-0.3,0.3)\n",
      "ax2[1].set_xlim(-0.3,0.3)"
     ],
     "language": "python",
     "outputs": [],
     "prompt_number": ""
    },
    {
     "cell_type": "markdown",
     "source": [
      "Question to think about:\n",
      "    \n",
      "* We see that the imaginary part of the Fourier transform is ~zero in many cases. Which cases are these? \n",
      "  (Another way of asking the question - when can we neglect the imaginary part of the Fourier transform, and just look at the amplitude?)"
     ]
    },
    {
     "cell_type": "code",
     "collapsed": true,
     "input": [],
     "language": "python",
     "outputs": [],
     "prompt_number": ""
    }
   ]
  }
 ]
}