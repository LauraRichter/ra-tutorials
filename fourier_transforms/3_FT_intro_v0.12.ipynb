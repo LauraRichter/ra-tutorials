{
 "metadata": {
  "name": "3_FT_intro_v0.12"
 },
 "nbformat": 3,
 "nbformat_minor": 0,
 "orig_nbformat": 2,
 "worksheets": [
  {
   "cells": [
    {
     "cell_type": "markdown",
     "source": [
      "#3. Intro to the Fourier Transform#"
     ]
    },
    {
     "cell_type": "markdown",
     "source": [
      "Some introductory notes, before we start doing some Fourier transforms in the next notebook.\n",
      "\n",
      "First import the necessary modules:"
     ]
    },
    {
     "cell_type": "code",
     "collapsed": true,
     "input": [
      "import matplotlib.pylab as plt\n",
      "import numpy as np"
     ],
     "language": "python",
     "outputs": [],
     "prompt_number": ""
    },
    {
     "cell_type": "markdown",
     "source": [
      "##Degrees and Radians##"
     ]
    },
    {
     "cell_type": "markdown",
     "source": [
      "From trignometry we can recall that the amplitude (A) is the height of the sine (or periodic) signal, while the period ($\\theta$) is the point at which the cycle that represent the signal repeats.\n",
      "\n",
      "$y = A \\sin \\theta$, with $0<= \\theta <= 360^\\circ$, where $\\theta = \\omega t = 2\\pi f t$"
     ]
    },
    {
     "cell_type": "code",
     "collapsed": true,
     "input": [
      "x=np.arange(0,370,10)\n",
      "y=np.sin(np.radians(x))\n",
      "\n",
      "plt.plot(x,y)\n",
      "plt.axhline(y=0,color='r')\n",
      "plt.axvline(x=90, color='g', linestyle=':')\n",
      "plt.ylabel('Amplitude')\n",
      "plt.xlabel('Degrees')\n",
      "plt.title('Sine')"
     ],
     "language": "python",
     "outputs": [],
     "prompt_number": ""
    },
    {
     "cell_type": "markdown",
     "source": [
      "This is the same as 0<=\u03b8<=2\u03c0 radians (remember 360\u2218=2\u03c0 radians)"
     ]
    },
    {
     "cell_type": "code",
     "collapsed": true,
     "input": [
      "x=np.arange(0,2*np.pi+0.01,0.01)\n",
      "y=np.sin(x)\n",
      "\n",
      "plt.plot(x,y)\n",
      "plt.axhline(y=0,color='r')\n",
      "plt.axvline(x=np.pi/2, color='g', linestyle=':')\n",
      "plt.ylabel('Amplitude')\n",
      "plt.xlabel('Radians')\n",
      "plt.title('Sine')"
     ],
     "language": "python",
     "outputs": [],
     "prompt_number": ""
    },
    {
     "cell_type": "markdown",
     "source": [
      "##Sampling and Discrete time##"
     ]
    },
    {
     "cell_type": "markdown",
     "source": [
      "We represent continuous mathematical functions in our code using a number of samples selected at regular intervals along the function.\n",
      "\n",
      "Lets define the period center around 0 radians, which means the signal will be represented by the cycle between -\u03c0 and \u03c0.\n",
      "We will then also select samples along the continuous signals at specific points, eg. every 0.1 radians."
     ]
    },
    {
     "cell_type": "code",
     "collapsed": true,
     "input": [
      "x=np.arange(-np.pi,np.pi,0.01)   \n",
      "y=np.sin(x)\n",
      "\n",
      "plt.plot(x,y,'b')\n",
      "plt.plot(x[::10],y[::10],'r.')       # this is python slice notation to select every tenth point from x and y"
     ],
     "language": "python",
     "outputs": [],
     "prompt_number": ""
    },
    {
     "cell_type": "markdown",
     "source": [
      "If the blue curve above represents a continuous mathematical function, the red points illustrate sampling the function at regular intervals. \n",
      "This is what we do when we simulate a function from discrete points using python, and also what we do when we collect real data: sample a continuous time signal at regular discrete points. \n",
      "\n",
      "So we now have N samples to represent the continious signal. "
     ]
    },
    {
     "cell_type": "code",
     "collapsed": true,
     "input": [],
     "language": "python",
     "outputs": [],
     "prompt_number": ""
    }
   ]
  }
 ]
}