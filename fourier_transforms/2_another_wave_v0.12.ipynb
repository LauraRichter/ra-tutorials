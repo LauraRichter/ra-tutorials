{
 "metadata": {
  "name": "2_another_wave_v0.12"
 },
 "nbformat": 3,
 "nbformat_minor": 0,
 "orig_nbformat": 2,
 "worksheets": [
  {
   "cells": [
    {
     "cell_type": "markdown",
     "source": [
      "#2. Approximating another 'mystery' function as a sum of sines and cosines#"
     ]
    },
    {
     "cell_type": "markdown",
     "source": [
      "Now lets try a different function...\n",
      "\n",
      "First import the necessary modules:"
     ]
    },
    {
     "cell_type": "code",
     "collapsed": true,
     "input": [
      "import matplotlib.pylab as plt\n",
      "import numpy as np\n",
      "import time\n",
      "from IPython.core.display import clear_output"
     ],
     "language": "python",
     "outputs": [],
     "prompt_number": ""
    },
    {
     "cell_type": "markdown",
     "source": [
      "Now set up the x-values for the function:"
     ]
    },
    {
     "cell_type": "code",
     "collapsed": true,
     "input": [
      "# create list of x values    \n",
      "t=np.arange(-np.pi,np.pi,0.01)  "
     ],
     "language": "python",
     "outputs": [],
     "prompt_number": ""
    },
    {
     "cell_type": "markdown",
     "source": [
      "Now list the frequencies and amplitudes of the waves we will use to build up our mystery wave:"
     ]
    },
    {
     "cell_type": "code",
     "collapsed": true,
     "input": [
      "# frequency and amplitudes to build up our mystery wave\n",
      "freqs = np.arange(1.0,20.,2.)\n",
      "Cn = np.array([(3.46565342017-254.737095318j),\n",
      "        (-1.16644367406+28.4709770497j),\n",
      "        (0.685571832259-10.0922164294j),\n",
      "        (-0.504127833607+5.240586586j),\n",
      "        (0.376217427242-3.07367121897j),\n",
      "        (-0.323123561657+2.1187342583j),\n",
      "        (0.256920499162-1.44821668795j),\n",
      "        (-0.238383315852+1.1331307276j),\n",
      "        (0.193524671284-0.829332009977j),\n",
      "        (-0.189110706279+0.69953977579j)])"
     ],
     "language": "python",
     "outputs": [],
     "prompt_number": ""
    },
    {
     "cell_type": "markdown",
     "source": [
      "Again, lets successively add up a series of sine and cos functions to make an ever-better approximation of our new mystery function:"
     ]
    },
    {
     "cell_type": "code",
     "collapsed": false,
     "input": [
      "# create plot\n",
      "f, ax = plt.subplots(1,2,figsize=[13,3])\n",
      "\n",
      "# set maximum number of iterations\n",
      "i_max = 20\n",
      "\n",
      "# initialise our function\n",
      "wave = 0.0\n",
      "\n",
      "# for each iteration...\n",
      "for i in range(0,len(Cn)):\n",
      "    # new component   \n",
      "    wave_amp = Cn[i]\n",
      "    wave_freq = freqs[i]\n",
      "    component = wave_amp*np.cos(2.*np.pi*t*wave_freq)+1.0j*wave_amp*np.sin(2.*np.pi*t*wave_freq) \n",
      "    \n",
      "    # add that component to our existing wave\n",
      "    wave = wave+component\n",
      "    \n",
      "    # plot the new component on the left, the sum on the right\n",
      "    ax[0].plot(t,component.real)\n",
      "    ax[0].set_xlabel('Time')\n",
      "    ax[0].set_ylabel('Amplitude (real)')\n",
      "\n",
      "    ax[1].plot(t,wave.real)\n",
      "    ax[1].set_xlabel('Time')\n",
      "    ax[1].set_ylabel('Amplitude (real)')\n",
      "    ax[1].set_ylim(-320,320)\n",
      "    \n",
      "    # show the plot, then get ready for the next plot\n",
      "    plt.draw()\n",
      "    time.sleep(2.0)\n",
      "    clear_output()\n",
      "    display(f)\n",
      "    ax[1].cla()\n",
      "    \n",
      "plt.close()"
     ],
     "language": "python",
     "outputs": [],
     "prompt_number": ""
    },
    {
     "cell_type": "markdown",
     "source": [
      "What were the frequencies and amplitudes of the sine and cosine functions used to build up the triangle function?\n",
      "Lets plot them (just the real parts)."
     ]
    },
    {
     "cell_type": "code",
     "collapsed": false,
     "input": [
      "plt.stem(freqs,Cn.real)\n",
      "plt.xlabel('Frequency')\n",
      "plt.ylabel('Amplitude (real)')"
     ],
     "language": "python",
     "outputs": [],
     "prompt_number": ""
    },
    {
     "cell_type": "markdown",
     "source": [
      "###In summary...###"
     ]
    },
    {
     "cell_type": "markdown",
     "source": [
      "To summarise what we're seen here:\n",
      "The triangle function can be approximated by the sum of a series of functions:\n",
      "\n",
      "$$C_n \\cos(2\\pi t f) + i \\; C_n \\sin(2\\pi t f)$$ \n",
      "\n",
      "These are called the harmonics of the triangle function."
     ]
    },
    {
     "cell_type": "code",
     "collapsed": false,
     "input": [
      "# create plot\n",
      "f, ax = plt.subplots(1,2,figsize=[13,3])\n",
      "\n",
      "# triangle function\n",
      "ax[0].plot(t,wave)\n",
      "ax[0].set_xlabel('Time')\n",
      "ax[0].set_ylabel('Amplitude (real)')\n",
      "ax[0].set_ylim(-320,320)\n",
      "ax[0].set_title('Time domain')\n",
      "\n",
      "# harmonics\n",
      "ax[1].stem(freqs,Cn.real)\n",
      "ax[1].set_xlabel('Frequency')\n",
      "ax[1].set_ylabel('Amplitude (real)')\n",
      "ax[1].set_title('Frequency domain')"
     ],
     "language": "python",
     "outputs": [],
     "prompt_number": ""
    },
    {
     "cell_type": "code",
     "collapsed": true,
     "input": [],
     "language": "python",
     "outputs": [],
     "prompt_number": ""
    }
   ]
  }
 ]
}